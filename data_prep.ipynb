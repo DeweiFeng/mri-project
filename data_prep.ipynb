{
 "cells": [
  {
   "cell_type": "code",
   "execution_count": 1,
   "id": "0c514829-423d-4bdf-94b1-dd5e7985b7f5",
   "metadata": {},
   "outputs": [
    {
     "name": "stderr",
     "output_type": "stream",
     "text": [
      "100%|██████████████████████████████████████████| 13/13 [00:00<00:00, 923.75it/s]\n"
     ]
    }
   ],
   "source": [
    "import os\n",
    "import h5py\n",
    "import xml.etree.ElementTree as ET\n",
    "import pandas as pd\n",
    "from tqdm import tqdm\n",
    "\n",
    "ns = {'ismrmrd': 'http://www.ismrm.org/ISMRMRD'}\n",
    "\n",
    "def extract_metadata_from_h5(file_path):\n",
    "    with h5py.File(file_path, \"r\") as f:\n",
    "        try:\n",
    "            header = f['ismrmrd_header'][()].decode(\"utf-8\")\n",
    "            root = ET.fromstring(header)\n",
    "        except Exception:\n",
    "            return []\n",
    "\n",
    "        def get(path, default=\"null\"):\n",
    "            el = root.find(path, ns)\n",
    "            return el.text if el is not None else default\n",
    "\n",
    "        num_slices = f['kspace'].shape[0]\n",
    "        filename = os.path.basename(file_path).replace(\".h5\", \"\")\n",
    "\n",
    "        metadata_rows = []\n",
    "        for slice_idx in range(num_slices):\n",
    "            row = {\n",
    "                \"filename\": filename,\n",
    "                \"slice\": slice_idx,\n",
    "                \"anatomy\": \"brain\" if \"brain\" in file_path.lower() else \"knee\",\n",
    "                \"contrast\": get(\".//ismrmrd:measurementInformation/ismrmrd:protocolName\"),\n",
    "                \"sequence\": get(\".//ismrmrd:sequenceParameters/ismrmrd:sequence_type\"),\n",
    "                \"TR\": get(\".//ismrmrd:sequenceParameters/ismrmrd:TR\"),\n",
    "                \"TE\": get(\".//ismrmrd:sequenceParameters/ismrmrd:TE\"),\n",
    "                \"TI\": get(\".//ismrmrd:sequenceParameters/ismrmrd:TI\"),\n",
    "                \"flip_angle\": get(\".//ismrmrd:sequenceParameters/ismrmrd:flipAngle_deg\"),\n",
    "                \"pathology\": \"null\"\n",
    "            }\n",
    "            metadata_rows.append(row)\n",
    "        return metadata_rows\n",
    "\n",
    "# Batch extract from folder\n",
    "all_metadata = []\n",
    "fastmri_dir = \"\"\n",
    "\n",
    "for fname in tqdm(os.listdir(os.curdir)):\n",
    "    if fname.endswith(\".h5\"):\n",
    "        full_path = os.path.join(fastmri_dir, fname)\n",
    "        rows = extract_metadata_from_h5(full_path)\n",
    "        all_metadata.extend(rows)\n",
    "\n",
    "df = pd.DataFrame(all_metadata)\n",
    "df.to_csv(\"metadata_brain.csv\", index=False)"
   ]
  },
  {
   "cell_type": "code",
   "execution_count": null,
   "id": "98512422-6660-4e3f-b14c-5a7849f46f5f",
   "metadata": {},
   "outputs": [],
   "source": []
  }
 ],
 "metadata": {
  "kernelspec": {
   "display_name": "Python 3 (ipykernel)",
   "language": "python",
   "name": "python3"
  },
  "language_info": {
   "codemirror_mode": {
    "name": "ipython",
    "version": 3
   },
   "file_extension": ".py",
   "mimetype": "text/x-python",
   "name": "python",
   "nbconvert_exporter": "python",
   "pygments_lexer": "ipython3",
   "version": "3.11.5"
  }
 },
 "nbformat": 4,
 "nbformat_minor": 5
}
